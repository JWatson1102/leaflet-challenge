{
 "cells": [
  {
   "cell_type": "code",
   "execution_count": 2,
   "metadata": {},
   "outputs": [],
   "source": [
    "import requests"
   ]
  },
  {
   "cell_type": "code",
   "execution_count": 3,
   "metadata": {},
   "outputs": [
    {
     "data": {
      "text/plain": [
       "[-151.2, 64.4845, 9.8]"
      ]
     },
     "execution_count": 3,
     "metadata": {},
     "output_type": "execute_result"
    }
   ],
   "source": [
    "response = requests.get('https://earthquake.usgs.gov/earthquakes/feed/v1.0/summary/all_week.geojson').json()\n",
    "\n",
    "response['features'][0]['properties']['mag'] #magnitude\n",
    "response['features'][0]['geometry']['coordinates'] #lat/lon/depth"
   ]
  },
  {
   "cell_type": "code",
   "execution_count": 7,
   "metadata": {},
   "outputs": [
    {
     "data": {
      "text/plain": [
       "{'type': 'Feature',\n",
       " 'properties': {'mag': 1.8,\n",
       "  'place': '63 km SSW of Manley Hot Springs, Alaska',\n",
       "  'time': 1650939503111,\n",
       "  'updated': 1650939615559,\n",
       "  'tz': None,\n",
       "  'url': 'https://earthquake.usgs.gov/earthquakes/eventpage/ak0225bvn15z',\n",
       "  'detail': 'https://earthquake.usgs.gov/earthquakes/feed/v1.0/detail/ak0225bvn15z.geojson',\n",
       "  'felt': None,\n",
       "  'cdi': None,\n",
       "  'mmi': None,\n",
       "  'alert': None,\n",
       "  'status': 'automatic',\n",
       "  'tsunami': 0,\n",
       "  'sig': 50,\n",
       "  'net': 'ak',\n",
       "  'code': '0225bvn15z',\n",
       "  'ids': ',ak0225bvn15z,',\n",
       "  'sources': ',ak,',\n",
       "  'types': ',origin,phase-data,',\n",
       "  'nst': None,\n",
       "  'dmin': None,\n",
       "  'rms': 0.61,\n",
       "  'gap': None,\n",
       "  'magType': 'ml',\n",
       "  'type': 'earthquake',\n",
       "  'title': 'M 1.8 - 63 km SSW of Manley Hot Springs, Alaska'},\n",
       " 'geometry': {'type': 'Point', 'coordinates': [-151.2, 64.4845, 9.8]},\n",
       " 'id': 'ak0225bvn15z'}"
      ]
     },
     "execution_count": 7,
     "metadata": {},
     "output_type": "execute_result"
    }
   ],
   "source": [
    "response['features'][0]['title']"
   ]
  }
 ],
 "metadata": {
  "interpreter": {
   "hash": "eed8a5eb32a2e3fd876b5eaeba5ebdac59b18c58b7506f3a88190dbee8b88e98"
  },
  "kernelspec": {
   "display_name": "Python 3.6.10 ('PythonData')",
   "language": "python",
   "name": "python3"
  },
  "language_info": {
   "codemirror_mode": {
    "name": "ipython",
    "version": 3
   },
   "file_extension": ".py",
   "mimetype": "text/x-python",
   "name": "python",
   "nbconvert_exporter": "python",
   "pygments_lexer": "ipython3",
   "version": "3.6.10"
  },
  "orig_nbformat": 4
 },
 "nbformat": 4,
 "nbformat_minor": 2
}
