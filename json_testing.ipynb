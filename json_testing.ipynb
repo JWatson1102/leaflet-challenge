{
 "cells": [
  {
   "cell_type": "code",
   "execution_count": 2,
   "metadata": {},
   "outputs": [],
   "source": [
    "import requests"
   ]
  },
  {
   "cell_type": "code",
   "execution_count": 3,
   "metadata": {},
   "outputs": [
    {
     "data": {
      "text/plain": [
       "[-151.2, 64.4845, 9.8]"
      ]
     },
     "execution_count": 3,
     "metadata": {},
     "output_type": "execute_result"
    }
   ],
   "source": [
    "response = requests.get('https://earthquake.usgs.gov/earthquakes/feed/v1.0/summary/all_week.geojson').json()\n",
    "\n",
    "response['features'][0]['properties']['mag'] #magnitude\n",
    "response['features'][0]['geometry']['coordinates'] #lat/lon/depth"
   ]
  },
  {
   "cell_type": "code",
   "execution_count": 6,
   "metadata": {},
   "outputs": [
    {
     "data": {
      "text/plain": [
       "{'type': 'Point', 'coordinates': [-151.2, 64.4845, 9.8]}"
      ]
     },
     "execution_count": 6,
     "metadata": {},
     "output_type": "execute_result"
    }
   ],
   "source": [
    "response['features'][0]['geometry']"
   ]
  }
 ],
 "metadata": {
  "interpreter": {
   "hash": "eed8a5eb32a2e3fd876b5eaeba5ebdac59b18c58b7506f3a88190dbee8b88e98"
  },
  "kernelspec": {
   "display_name": "Python 3.6.10 ('PythonData')",
   "language": "python",
   "name": "python3"
  },
  "language_info": {
   "codemirror_mode": {
    "name": "ipython",
    "version": 3
   },
   "file_extension": ".py",
   "mimetype": "text/x-python",
   "name": "python",
   "nbconvert_exporter": "python",
   "pygments_lexer": "ipython3",
   "version": "3.6.10"
  },
  "orig_nbformat": 4
 },
 "nbformat": 4,
 "nbformat_minor": 2
}
